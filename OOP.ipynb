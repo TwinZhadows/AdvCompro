{
  "nbformat": 4,
  "nbformat_minor": 0,
  "metadata": {
    "colab": {
      "provenance": [],
      "authorship_tag": "ABX9TyOcWBwr0fmKskHKZYx64OXM",
      "include_colab_link": true
    },
    "kernelspec": {
      "name": "python3",
      "display_name": "Python 3"
    },
    "language_info": {
      "name": "python"
    },
    "widgets": {
      "application/vnd.jupyter.widget-state+json": {
        "b261e5f112d24821b5429c7d28cb3ebe": {
          "model_module": "@jupyter-widgets/controls",
          "model_name": "VBoxModel",
          "model_module_version": "1.5.0",
          "state": {
            "_dom_classes": [
              "widget-interact"
            ],
            "_model_module": "@jupyter-widgets/controls",
            "_model_module_version": "1.5.0",
            "_model_name": "VBoxModel",
            "_view_count": null,
            "_view_module": "@jupyter-widgets/controls",
            "_view_module_version": "1.5.0",
            "_view_name": "VBoxView",
            "box_style": "",
            "children": [
              "IPY_MODEL_d825842af24c418d9ddc386b76e237fa",
              "IPY_MODEL_e508f64e04134e098fe5d855e6afef38"
            ],
            "layout": "IPY_MODEL_50fb62ab88f846e184ff49198ee74bad"
          }
        },
        "d825842af24c418d9ddc386b76e237fa": {
          "model_module": "@jupyter-widgets/controls",
          "model_name": "TextModel",
          "model_module_version": "1.5.0",
          "state": {
            "_dom_classes": [],
            "_model_module": "@jupyter-widgets/controls",
            "_model_module_version": "1.5.0",
            "_model_name": "TextModel",
            "_view_count": null,
            "_view_module": "@jupyter-widgets/controls",
            "_view_module_version": "1.5.0",
            "_view_name": "TextView",
            "continuous_update": true,
            "description": "name",
            "description_tooltip": null,
            "disabled": false,
            "layout": "IPY_MODEL_ba07dcd6244a40b186ef830562e166a2",
            "placeholder": "​",
            "style": "IPY_MODEL_6946d6464e9248e4b51e6bbc791bea17",
            "value": "Colab User"
          }
        },
        "e508f64e04134e098fe5d855e6afef38": {
          "model_module": "@jupyter-widgets/output",
          "model_name": "OutputModel",
          "model_module_version": "1.0.0",
          "state": {
            "_dom_classes": [],
            "_model_module": "@jupyter-widgets/output",
            "_model_module_version": "1.0.0",
            "_model_name": "OutputModel",
            "_view_count": null,
            "_view_module": "@jupyter-widgets/output",
            "_view_module_version": "1.0.0",
            "_view_name": "OutputView",
            "layout": "IPY_MODEL_06d6c53f0afb42b088844c41942e09bf",
            "msg_id": "",
            "outputs": [
              {
                "output_type": "display_data",
                "data": {
                  "text/plain": "'Hello, Colab User!'",
                  "application/vnd.google.colaboratory.intrinsic+json": {
                    "type": "string"
                  }
                },
                "metadata": {}
              }
            ]
          }
        },
        "50fb62ab88f846e184ff49198ee74bad": {
          "model_module": "@jupyter-widgets/base",
          "model_name": "LayoutModel",
          "model_module_version": "1.2.0",
          "state": {
            "_model_module": "@jupyter-widgets/base",
            "_model_module_version": "1.2.0",
            "_model_name": "LayoutModel",
            "_view_count": null,
            "_view_module": "@jupyter-widgets/base",
            "_view_module_version": "1.2.0",
            "_view_name": "LayoutView",
            "align_content": null,
            "align_items": null,
            "align_self": null,
            "border": null,
            "bottom": null,
            "display": null,
            "flex": null,
            "flex_flow": null,
            "grid_area": null,
            "grid_auto_columns": null,
            "grid_auto_flow": null,
            "grid_auto_rows": null,
            "grid_column": null,
            "grid_gap": null,
            "grid_row": null,
            "grid_template_areas": null,
            "grid_template_columns": null,
            "grid_template_rows": null,
            "height": null,
            "justify_content": null,
            "justify_items": null,
            "left": null,
            "margin": null,
            "max_height": null,
            "max_width": null,
            "min_height": null,
            "min_width": null,
            "object_fit": null,
            "object_position": null,
            "order": null,
            "overflow": null,
            "overflow_x": null,
            "overflow_y": null,
            "padding": null,
            "right": null,
            "top": null,
            "visibility": null,
            "width": null
          }
        },
        "ba07dcd6244a40b186ef830562e166a2": {
          "model_module": "@jupyter-widgets/base",
          "model_name": "LayoutModel",
          "model_module_version": "1.2.0",
          "state": {
            "_model_module": "@jupyter-widgets/base",
            "_model_module_version": "1.2.0",
            "_model_name": "LayoutModel",
            "_view_count": null,
            "_view_module": "@jupyter-widgets/base",
            "_view_module_version": "1.2.0",
            "_view_name": "LayoutView",
            "align_content": null,
            "align_items": null,
            "align_self": null,
            "border": null,
            "bottom": null,
            "display": null,
            "flex": null,
            "flex_flow": null,
            "grid_area": null,
            "grid_auto_columns": null,
            "grid_auto_flow": null,
            "grid_auto_rows": null,
            "grid_column": null,
            "grid_gap": null,
            "grid_row": null,
            "grid_template_areas": null,
            "grid_template_columns": null,
            "grid_template_rows": null,
            "height": null,
            "justify_content": null,
            "justify_items": null,
            "left": null,
            "margin": null,
            "max_height": null,
            "max_width": null,
            "min_height": null,
            "min_width": null,
            "object_fit": null,
            "object_position": null,
            "order": null,
            "overflow": null,
            "overflow_x": null,
            "overflow_y": null,
            "padding": null,
            "right": null,
            "top": null,
            "visibility": null,
            "width": null
          }
        },
        "6946d6464e9248e4b51e6bbc791bea17": {
          "model_module": "@jupyter-widgets/controls",
          "model_name": "DescriptionStyleModel",
          "model_module_version": "1.5.0",
          "state": {
            "_model_module": "@jupyter-widgets/controls",
            "_model_module_version": "1.5.0",
            "_model_name": "DescriptionStyleModel",
            "_view_count": null,
            "_view_module": "@jupyter-widgets/base",
            "_view_module_version": "1.2.0",
            "_view_name": "StyleView",
            "description_width": ""
          }
        },
        "06d6c53f0afb42b088844c41942e09bf": {
          "model_module": "@jupyter-widgets/base",
          "model_name": "LayoutModel",
          "model_module_version": "1.2.0",
          "state": {
            "_model_module": "@jupyter-widgets/base",
            "_model_module_version": "1.2.0",
            "_model_name": "LayoutModel",
            "_view_count": null,
            "_view_module": "@jupyter-widgets/base",
            "_view_module_version": "1.2.0",
            "_view_name": "LayoutView",
            "align_content": null,
            "align_items": null,
            "align_self": null,
            "border": null,
            "bottom": null,
            "display": null,
            "flex": null,
            "flex_flow": null,
            "grid_area": null,
            "grid_auto_columns": null,
            "grid_auto_flow": null,
            "grid_auto_rows": null,
            "grid_column": null,
            "grid_gap": null,
            "grid_row": null,
            "grid_template_areas": null,
            "grid_template_columns": null,
            "grid_template_rows": null,
            "height": null,
            "justify_content": null,
            "justify_items": null,
            "left": null,
            "margin": null,
            "max_height": null,
            "max_width": null,
            "min_height": null,
            "min_width": null,
            "object_fit": null,
            "object_position": null,
            "order": null,
            "overflow": null,
            "overflow_x": null,
            "overflow_y": null,
            "padding": null,
            "right": null,
            "top": null,
            "visibility": null,
            "width": null
          }
        },
        "325f5a2331994165b892aabbd4c8f173": {
          "model_module": "@jupyter-widgets/controls",
          "model_name": "VBoxModel",
          "model_module_version": "1.5.0",
          "state": {
            "_dom_classes": [
              "widget-interact"
            ],
            "_model_module": "@jupyter-widgets/controls",
            "_model_module_version": "1.5.0",
            "_model_name": "VBoxModel",
            "_view_count": null,
            "_view_module": "@jupyter-widgets/controls",
            "_view_module_version": "1.5.0",
            "_view_name": "VBoxView",
            "box_style": "",
            "children": [
              "IPY_MODEL_6a705fe76aff4e64b3586bf8ea593b8b",
              "IPY_MODEL_0b20701d4ac4406fa81880ce7654c29e"
            ],
            "layout": "IPY_MODEL_4dde5f3692d04002b4175c9934c41555"
          }
        },
        "6a705fe76aff4e64b3586bf8ea593b8b": {
          "model_module": "@jupyter-widgets/controls",
          "model_name": "TextModel",
          "model_module_version": "1.5.0",
          "state": {
            "_dom_classes": [],
            "_model_module": "@jupyter-widgets/controls",
            "_model_module_version": "1.5.0",
            "_model_name": "TextModel",
            "_view_count": null,
            "_view_module": "@jupyter-widgets/controls",
            "_view_module_version": "1.5.0",
            "_view_name": "TextView",
            "continuous_update": true,
            "description": "name",
            "description_tooltip": null,
            "disabled": false,
            "layout": "IPY_MODEL_26c2b779bce148c187492edacb2c191d",
            "placeholder": "​",
            "style": "IPY_MODEL_8967d6e96eca451895080a573c8bee14",
            "value": "Test"
          }
        },
        "0b20701d4ac4406fa81880ce7654c29e": {
          "model_module": "@jupyter-widgets/output",
          "model_name": "OutputModel",
          "model_module_version": "1.0.0",
          "state": {
            "_dom_classes": [],
            "_model_module": "@jupyter-widgets/output",
            "_model_module_version": "1.0.0",
            "_model_name": "OutputModel",
            "_view_count": null,
            "_view_module": "@jupyter-widgets/output",
            "_view_module_version": "1.0.0",
            "_view_name": "OutputView",
            "layout": "IPY_MODEL_65bbfbe18975413c9f5372a59e028ea7",
            "msg_id": "",
            "outputs": [
              {
                "output_type": "display_data",
                "data": {
                  "text/plain": "'Hello, Test!'",
                  "application/vnd.google.colaboratory.intrinsic+json": {
                    "type": "string"
                  }
                },
                "metadata": {}
              }
            ]
          }
        },
        "4dde5f3692d04002b4175c9934c41555": {
          "model_module": "@jupyter-widgets/base",
          "model_name": "LayoutModel",
          "model_module_version": "1.2.0",
          "state": {
            "_model_module": "@jupyter-widgets/base",
            "_model_module_version": "1.2.0",
            "_model_name": "LayoutModel",
            "_view_count": null,
            "_view_module": "@jupyter-widgets/base",
            "_view_module_version": "1.2.0",
            "_view_name": "LayoutView",
            "align_content": null,
            "align_items": null,
            "align_self": null,
            "border": null,
            "bottom": null,
            "display": null,
            "flex": null,
            "flex_flow": null,
            "grid_area": null,
            "grid_auto_columns": null,
            "grid_auto_flow": null,
            "grid_auto_rows": null,
            "grid_column": null,
            "grid_gap": null,
            "grid_row": null,
            "grid_template_areas": null,
            "grid_template_columns": null,
            "grid_template_rows": null,
            "height": null,
            "justify_content": null,
            "justify_items": null,
            "left": null,
            "margin": null,
            "max_height": null,
            "max_width": null,
            "min_height": null,
            "min_width": null,
            "object_fit": null,
            "object_position": null,
            "order": null,
            "overflow": null,
            "overflow_x": null,
            "overflow_y": null,
            "padding": null,
            "right": null,
            "top": null,
            "visibility": null,
            "width": null
          }
        },
        "26c2b779bce148c187492edacb2c191d": {
          "model_module": "@jupyter-widgets/base",
          "model_name": "LayoutModel",
          "model_module_version": "1.2.0",
          "state": {
            "_model_module": "@jupyter-widgets/base",
            "_model_module_version": "1.2.0",
            "_model_name": "LayoutModel",
            "_view_count": null,
            "_view_module": "@jupyter-widgets/base",
            "_view_module_version": "1.2.0",
            "_view_name": "LayoutView",
            "align_content": null,
            "align_items": null,
            "align_self": null,
            "border": null,
            "bottom": null,
            "display": null,
            "flex": null,
            "flex_flow": null,
            "grid_area": null,
            "grid_auto_columns": null,
            "grid_auto_flow": null,
            "grid_auto_rows": null,
            "grid_column": null,
            "grid_gap": null,
            "grid_row": null,
            "grid_template_areas": null,
            "grid_template_columns": null,
            "grid_template_rows": null,
            "height": null,
            "justify_content": null,
            "justify_items": null,
            "left": null,
            "margin": null,
            "max_height": null,
            "max_width": null,
            "min_height": null,
            "min_width": null,
            "object_fit": null,
            "object_position": null,
            "order": null,
            "overflow": null,
            "overflow_x": null,
            "overflow_y": null,
            "padding": null,
            "right": null,
            "top": null,
            "visibility": null,
            "width": null
          }
        },
        "8967d6e96eca451895080a573c8bee14": {
          "model_module": "@jupyter-widgets/controls",
          "model_name": "DescriptionStyleModel",
          "model_module_version": "1.5.0",
          "state": {
            "_model_module": "@jupyter-widgets/controls",
            "_model_module_version": "1.5.0",
            "_model_name": "DescriptionStyleModel",
            "_view_count": null,
            "_view_module": "@jupyter-widgets/base",
            "_view_module_version": "1.2.0",
            "_view_name": "StyleView",
            "description_width": ""
          }
        },
        "65bbfbe18975413c9f5372a59e028ea7": {
          "model_module": "@jupyter-widgets/base",
          "model_name": "LayoutModel",
          "model_module_version": "1.2.0",
          "state": {
            "_model_module": "@jupyter-widgets/base",
            "_model_module_version": "1.2.0",
            "_model_name": "LayoutModel",
            "_view_count": null,
            "_view_module": "@jupyter-widgets/base",
            "_view_module_version": "1.2.0",
            "_view_name": "LayoutView",
            "align_content": null,
            "align_items": null,
            "align_self": null,
            "border": null,
            "bottom": null,
            "display": null,
            "flex": null,
            "flex_flow": null,
            "grid_area": null,
            "grid_auto_columns": null,
            "grid_auto_flow": null,
            "grid_auto_rows": null,
            "grid_column": null,
            "grid_gap": null,
            "grid_row": null,
            "grid_template_areas": null,
            "grid_template_columns": null,
            "grid_template_rows": null,
            "height": null,
            "justify_content": null,
            "justify_items": null,
            "left": null,
            "margin": null,
            "max_height": null,
            "max_width": null,
            "min_height": null,
            "min_width": null,
            "object_fit": null,
            "object_position": null,
            "order": null,
            "overflow": null,
            "overflow_x": null,
            "overflow_y": null,
            "padding": null,
            "right": null,
            "top": null,
            "visibility": null,
            "width": null
          }
        },
        "9add43b4ae2644808991564e8114abd9": {
          "model_module": "@jupyter-widgets/controls",
          "model_name": "VBoxModel",
          "model_module_version": "1.5.0",
          "state": {
            "_dom_classes": [
              "widget-interact"
            ],
            "_model_module": "@jupyter-widgets/controls",
            "_model_module_version": "1.5.0",
            "_model_name": "VBoxModel",
            "_view_count": null,
            "_view_module": "@jupyter-widgets/controls",
            "_view_module_version": "1.5.0",
            "_view_name": "VBoxView",
            "box_style": "",
            "children": [
              "IPY_MODEL_3d92b62a2ee8425ab74311c9c14f00d4",
              "IPY_MODEL_185d01d70b09469d871b8ce12d40f1b8",
              "IPY_MODEL_1f10ca5c707c4bcb9a0433ed205733bd"
            ],
            "layout": "IPY_MODEL_94cacf3df0d84a6bbd9a72eb7fa06cca"
          }
        },
        "3d92b62a2ee8425ab74311c9c14f00d4": {
          "model_module": "@jupyter-widgets/controls",
          "model_name": "FloatSliderModel",
          "model_module_version": "1.5.0",
          "state": {
            "_dom_classes": [],
            "_model_module": "@jupyter-widgets/controls",
            "_model_module_version": "1.5.0",
            "_model_name": "FloatSliderModel",
            "_view_count": null,
            "_view_module": "@jupyter-widgets/controls",
            "_view_module_version": "1.5.0",
            "_view_name": "FloatSliderView",
            "continuous_update": true,
            "description": "frequency",
            "description_tooltip": null,
            "disabled": false,
            "layout": "IPY_MODEL_e34c287bca2b42518d422b4610db919c",
            "max": 10,
            "min": 0.1,
            "orientation": "horizontal",
            "readout": true,
            "readout_format": ".2f",
            "step": 0.1,
            "style": "IPY_MODEL_cf6cba8129444153b76022905d95f43e",
            "value": 1.3
          }
        },
        "185d01d70b09469d871b8ce12d40f1b8": {
          "model_module": "@jupyter-widgets/controls",
          "model_name": "FloatSliderModel",
          "model_module_version": "1.5.0",
          "state": {
            "_dom_classes": [],
            "_model_module": "@jupyter-widgets/controls",
            "_model_module_version": "1.5.0",
            "_model_name": "FloatSliderModel",
            "_view_count": null,
            "_view_module": "@jupyter-widgets/controls",
            "_view_module_version": "1.5.0",
            "_view_name": "FloatSliderView",
            "continuous_update": true,
            "description": "amplitude",
            "description_tooltip": null,
            "disabled": false,
            "layout": "IPY_MODEL_aabae0c84a4e4998983d8fe73d546682",
            "max": 5,
            "min": 0.1,
            "orientation": "horizontal",
            "readout": true,
            "readout_format": ".2f",
            "step": 0.1,
            "style": "IPY_MODEL_5c829bff47854bb9ae316f3108e58724",
            "value": 3
          }
        },
        "1f10ca5c707c4bcb9a0433ed205733bd": {
          "model_module": "@jupyter-widgets/output",
          "model_name": "OutputModel",
          "model_module_version": "1.0.0",
          "state": {
            "_dom_classes": [],
            "_model_module": "@jupyter-widgets/output",
            "_model_module_version": "1.0.0",
            "_model_name": "OutputModel",
            "_view_count": null,
            "_view_module": "@jupyter-widgets/output",
            "_view_module_version": "1.0.0",
            "_view_name": "OutputView",
            "layout": "IPY_MODEL_1cbafd0e483d4db8a15f8377fd288307",
            "msg_id": "",
            "outputs": [
              {
                "output_type": "display_data",
                "data": {
                  "text/plain": "<Figure size 640x480 with 1 Axes>",
                  "image/png": "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\n"
                },
                "metadata": {}
              }
            ]
          }
        },
        "94cacf3df0d84a6bbd9a72eb7fa06cca": {
          "model_module": "@jupyter-widgets/base",
          "model_name": "LayoutModel",
          "model_module_version": "1.2.0",
          "state": {
            "_model_module": "@jupyter-widgets/base",
            "_model_module_version": "1.2.0",
            "_model_name": "LayoutModel",
            "_view_count": null,
            "_view_module": "@jupyter-widgets/base",
            "_view_module_version": "1.2.0",
            "_view_name": "LayoutView",
            "align_content": null,
            "align_items": null,
            "align_self": null,
            "border": null,
            "bottom": null,
            "display": null,
            "flex": null,
            "flex_flow": null,
            "grid_area": null,
            "grid_auto_columns": null,
            "grid_auto_flow": null,
            "grid_auto_rows": null,
            "grid_column": null,
            "grid_gap": null,
            "grid_row": null,
            "grid_template_areas": null,
            "grid_template_columns": null,
            "grid_template_rows": null,
            "height": null,
            "justify_content": null,
            "justify_items": null,
            "left": null,
            "margin": null,
            "max_height": null,
            "max_width": null,
            "min_height": null,
            "min_width": null,
            "object_fit": null,
            "object_position": null,
            "order": null,
            "overflow": null,
            "overflow_x": null,
            "overflow_y": null,
            "padding": null,
            "right": null,
            "top": null,
            "visibility": null,
            "width": null
          }
        },
        "e34c287bca2b42518d422b4610db919c": {
          "model_module": "@jupyter-widgets/base",
          "model_name": "LayoutModel",
          "model_module_version": "1.2.0",
          "state": {
            "_model_module": "@jupyter-widgets/base",
            "_model_module_version": "1.2.0",
            "_model_name": "LayoutModel",
            "_view_count": null,
            "_view_module": "@jupyter-widgets/base",
            "_view_module_version": "1.2.0",
            "_view_name": "LayoutView",
            "align_content": null,
            "align_items": null,
            "align_self": null,
            "border": null,
            "bottom": null,
            "display": null,
            "flex": null,
            "flex_flow": null,
            "grid_area": null,
            "grid_auto_columns": null,
            "grid_auto_flow": null,
            "grid_auto_rows": null,
            "grid_column": null,
            "grid_gap": null,
            "grid_row": null,
            "grid_template_areas": null,
            "grid_template_columns": null,
            "grid_template_rows": null,
            "height": null,
            "justify_content": null,
            "justify_items": null,
            "left": null,
            "margin": null,
            "max_height": null,
            "max_width": null,
            "min_height": null,
            "min_width": null,
            "object_fit": null,
            "object_position": null,
            "order": null,
            "overflow": null,
            "overflow_x": null,
            "overflow_y": null,
            "padding": null,
            "right": null,
            "top": null,
            "visibility": null,
            "width": null
          }
        },
        "cf6cba8129444153b76022905d95f43e": {
          "model_module": "@jupyter-widgets/controls",
          "model_name": "SliderStyleModel",
          "model_module_version": "1.5.0",
          "state": {
            "_model_module": "@jupyter-widgets/controls",
            "_model_module_version": "1.5.0",
            "_model_name": "SliderStyleModel",
            "_view_count": null,
            "_view_module": "@jupyter-widgets/base",
            "_view_module_version": "1.2.0",
            "_view_name": "StyleView",
            "description_width": "",
            "handle_color": null
          }
        },
        "aabae0c84a4e4998983d8fe73d546682": {
          "model_module": "@jupyter-widgets/base",
          "model_name": "LayoutModel",
          "model_module_version": "1.2.0",
          "state": {
            "_model_module": "@jupyter-widgets/base",
            "_model_module_version": "1.2.0",
            "_model_name": "LayoutModel",
            "_view_count": null,
            "_view_module": "@jupyter-widgets/base",
            "_view_module_version": "1.2.0",
            "_view_name": "LayoutView",
            "align_content": null,
            "align_items": null,
            "align_self": null,
            "border": null,
            "bottom": null,
            "display": null,
            "flex": null,
            "flex_flow": null,
            "grid_area": null,
            "grid_auto_columns": null,
            "grid_auto_flow": null,
            "grid_auto_rows": null,
            "grid_column": null,
            "grid_gap": null,
            "grid_row": null,
            "grid_template_areas": null,
            "grid_template_columns": null,
            "grid_template_rows": null,
            "height": null,
            "justify_content": null,
            "justify_items": null,
            "left": null,
            "margin": null,
            "max_height": null,
            "max_width": null,
            "min_height": null,
            "min_width": null,
            "object_fit": null,
            "object_position": null,
            "order": null,
            "overflow": null,
            "overflow_x": null,
            "overflow_y": null,
            "padding": null,
            "right": null,
            "top": null,
            "visibility": null,
            "width": null
          }
        },
        "5c829bff47854bb9ae316f3108e58724": {
          "model_module": "@jupyter-widgets/controls",
          "model_name": "SliderStyleModel",
          "model_module_version": "1.5.0",
          "state": {
            "_model_module": "@jupyter-widgets/controls",
            "_model_module_version": "1.5.0",
            "_model_name": "SliderStyleModel",
            "_view_count": null,
            "_view_module": "@jupyter-widgets/base",
            "_view_module_version": "1.2.0",
            "_view_name": "StyleView",
            "description_width": "",
            "handle_color": null
          }
        },
        "1cbafd0e483d4db8a15f8377fd288307": {
          "model_module": "@jupyter-widgets/base",
          "model_name": "LayoutModel",
          "model_module_version": "1.2.0",
          "state": {
            "_model_module": "@jupyter-widgets/base",
            "_model_module_version": "1.2.0",
            "_model_name": "LayoutModel",
            "_view_count": null,
            "_view_module": "@jupyter-widgets/base",
            "_view_module_version": "1.2.0",
            "_view_name": "LayoutView",
            "align_content": null,
            "align_items": null,
            "align_self": null,
            "border": null,
            "bottom": null,
            "display": null,
            "flex": null,
            "flex_flow": null,
            "grid_area": null,
            "grid_auto_columns": null,
            "grid_auto_flow": null,
            "grid_auto_rows": null,
            "grid_column": null,
            "grid_gap": null,
            "grid_row": null,
            "grid_template_areas": null,
            "grid_template_columns": null,
            "grid_template_rows": null,
            "height": null,
            "justify_content": null,
            "justify_items": null,
            "left": null,
            "margin": null,
            "max_height": null,
            "max_width": null,
            "min_height": null,
            "min_width": null,
            "object_fit": null,
            "object_position": null,
            "order": null,
            "overflow": null,
            "overflow_x": null,
            "overflow_y": null,
            "padding": null,
            "right": null,
            "top": null,
            "visibility": null,
            "width": null
          }
        }
      }
    }
  },
  "cells": [
    {
      "cell_type": "markdown",
      "metadata": {
        "id": "view-in-github",
        "colab_type": "text"
      },
      "source": [
        "<a href=\"https://colab.research.google.com/github/TwinZhadows/AdvCompro/blob/main/OOP.ipynb\" target=\"_parent\"><img src=\"https://colab.research.google.com/assets/colab-badge.svg\" alt=\"Open In Colab\"/></a>"
      ]
    },
    {
      "cell_type": "code",
      "execution_count": null,
      "metadata": {
        "id": "Ux1m1aqFZDIA"
      },
      "outputs": [],
      "source": [
        "class LightSwitch():\n",
        " def __init__(self):\n",
        "  self.switchIsOn = False\n",
        " def turnOn(self):\n",
        " # turn the switch on\n",
        "  self.switchIsOn = True\n",
        " def turnOff(self):\n",
        " # turn the switch off\n",
        "  self.switchIsOn = False\n",
        " def getStatus(self):\n",
        "  print(self.switchIsOn)\n"
      ]
    },
    {
      "cell_type": "code",
      "source": [
        "light1 = LightSwitch()\n",
        "light1.getStatus()"
      ],
      "metadata": {
        "colab": {
          "base_uri": "https://localhost:8080/"
        },
        "id": "185kv-HjZHI8",
        "outputId": "77c823c8-df51-4c6f-adad-fe76d80e4dad"
      },
      "execution_count": null,
      "outputs": [
        {
          "output_type": "stream",
          "name": "stdout",
          "text": [
            "False\n"
          ]
        }
      ]
    },
    {
      "cell_type": "code",
      "source": [
        "!pip install ipywidgets\n",
        "from ipywidgets import interact\n"
      ],
      "metadata": {
        "id": "YCKg9-9SZf5o",
        "colab": {
          "base_uri": "https://localhost:8080/",
          "height": 1000,
          "referenced_widgets": [
            "b261e5f112d24821b5429c7d28cb3ebe",
            "d825842af24c418d9ddc386b76e237fa",
            "e508f64e04134e098fe5d855e6afef38",
            "50fb62ab88f846e184ff49198ee74bad",
            "ba07dcd6244a40b186ef830562e166a2",
            "6946d6464e9248e4b51e6bbc791bea17",
            "06d6c53f0afb42b088844c41942e09bf"
          ]
        },
        "outputId": "d49442b2-a940-4db2-f724-01df30bf8340"
      },
      "execution_count": null,
      "outputs": [
        {
          "output_type": "stream",
          "name": "stdout",
          "text": [
            "Requirement already satisfied: ipywidgets in /usr/local/lib/python3.10/dist-packages (7.7.1)\n",
            "Requirement already satisfied: ipykernel>=4.5.1 in /usr/local/lib/python3.10/dist-packages (from ipywidgets) (5.5.6)\n",
            "Requirement already satisfied: ipython-genutils~=0.2.0 in /usr/local/lib/python3.10/dist-packages (from ipywidgets) (0.2.0)\n",
            "Requirement already satisfied: traitlets>=4.3.1 in /usr/local/lib/python3.10/dist-packages (from ipywidgets) (5.7.1)\n",
            "Requirement already satisfied: widgetsnbextension~=3.6.0 in /usr/local/lib/python3.10/dist-packages (from ipywidgets) (3.6.10)\n",
            "Requirement already satisfied: ipython>=4.0.0 in /usr/local/lib/python3.10/dist-packages (from ipywidgets) (7.34.0)\n",
            "Requirement already satisfied: jupyterlab-widgets>=1.0.0 in /usr/local/lib/python3.10/dist-packages (from ipywidgets) (3.0.13)\n",
            "Requirement already satisfied: jupyter-client in /usr/local/lib/python3.10/dist-packages (from ipykernel>=4.5.1->ipywidgets) (6.1.12)\n",
            "Requirement already satisfied: tornado>=4.2 in /usr/local/lib/python3.10/dist-packages (from ipykernel>=4.5.1->ipywidgets) (6.3.3)\n",
            "Requirement already satisfied: setuptools>=18.5 in /usr/local/lib/python3.10/dist-packages (from ipython>=4.0.0->ipywidgets) (75.1.0)\n",
            "Collecting jedi>=0.16 (from ipython>=4.0.0->ipywidgets)\n",
            "  Using cached jedi-0.19.2-py2.py3-none-any.whl.metadata (22 kB)\n",
            "Requirement already satisfied: decorator in /usr/local/lib/python3.10/dist-packages (from ipython>=4.0.0->ipywidgets) (4.4.2)\n",
            "Requirement already satisfied: pickleshare in /usr/local/lib/python3.10/dist-packages (from ipython>=4.0.0->ipywidgets) (0.7.5)\n",
            "Requirement already satisfied: prompt-toolkit!=3.0.0,!=3.0.1,<3.1.0,>=2.0.0 in /usr/local/lib/python3.10/dist-packages (from ipython>=4.0.0->ipywidgets) (3.0.48)\n",
            "Requirement already satisfied: pygments in /usr/local/lib/python3.10/dist-packages (from ipython>=4.0.0->ipywidgets) (2.18.0)\n",
            "Requirement already satisfied: backcall in /usr/local/lib/python3.10/dist-packages (from ipython>=4.0.0->ipywidgets) (0.2.0)\n",
            "Requirement already satisfied: matplotlib-inline in /usr/local/lib/python3.10/dist-packages (from ipython>=4.0.0->ipywidgets) (0.1.7)\n",
            "Requirement already satisfied: pexpect>4.3 in /usr/local/lib/python3.10/dist-packages (from ipython>=4.0.0->ipywidgets) (4.9.0)\n",
            "Requirement already satisfied: notebook>=4.4.1 in /usr/local/lib/python3.10/dist-packages (from widgetsnbextension~=3.6.0->ipywidgets) (6.5.5)\n",
            "Requirement already satisfied: parso<0.9.0,>=0.8.4 in /usr/local/lib/python3.10/dist-packages (from jedi>=0.16->ipython>=4.0.0->ipywidgets) (0.8.4)\n",
            "Requirement already satisfied: jinja2 in /usr/local/lib/python3.10/dist-packages (from notebook>=4.4.1->widgetsnbextension~=3.6.0->ipywidgets) (3.1.4)\n",
            "Requirement already satisfied: pyzmq<25,>=17 in /usr/local/lib/python3.10/dist-packages (from notebook>=4.4.1->widgetsnbextension~=3.6.0->ipywidgets) (24.0.1)\n",
            "Requirement already satisfied: argon2-cffi in /usr/local/lib/python3.10/dist-packages (from notebook>=4.4.1->widgetsnbextension~=3.6.0->ipywidgets) (23.1.0)\n",
            "Requirement already satisfied: jupyter-core>=4.6.1 in /usr/local/lib/python3.10/dist-packages (from notebook>=4.4.1->widgetsnbextension~=3.6.0->ipywidgets) (5.7.2)\n",
            "Requirement already satisfied: nbformat in /usr/local/lib/python3.10/dist-packages (from notebook>=4.4.1->widgetsnbextension~=3.6.0->ipywidgets) (5.10.4)\n",
            "Requirement already satisfied: nbconvert>=5 in /usr/local/lib/python3.10/dist-packages (from notebook>=4.4.1->widgetsnbextension~=3.6.0->ipywidgets) (7.16.4)\n",
            "Requirement already satisfied: nest-asyncio>=1.5 in /usr/local/lib/python3.10/dist-packages (from notebook>=4.4.1->widgetsnbextension~=3.6.0->ipywidgets) (1.6.0)\n",
            "Requirement already satisfied: Send2Trash>=1.8.0 in /usr/local/lib/python3.10/dist-packages (from notebook>=4.4.1->widgetsnbextension~=3.6.0->ipywidgets) (1.8.3)\n",
            "Requirement already satisfied: terminado>=0.8.3 in /usr/local/lib/python3.10/dist-packages (from notebook>=4.4.1->widgetsnbextension~=3.6.0->ipywidgets) (0.18.1)\n",
            "Requirement already satisfied: prometheus-client in /usr/local/lib/python3.10/dist-packages (from notebook>=4.4.1->widgetsnbextension~=3.6.0->ipywidgets) (0.21.0)\n",
            "Requirement already satisfied: nbclassic>=0.4.7 in /usr/local/lib/python3.10/dist-packages (from notebook>=4.4.1->widgetsnbextension~=3.6.0->ipywidgets) (1.1.0)\n",
            "Requirement already satisfied: python-dateutil>=2.1 in /usr/local/lib/python3.10/dist-packages (from jupyter-client->ipykernel>=4.5.1->ipywidgets) (2.8.2)\n",
            "Requirement already satisfied: ptyprocess>=0.5 in /usr/local/lib/python3.10/dist-packages (from pexpect>4.3->ipython>=4.0.0->ipywidgets) (0.7.0)\n",
            "Requirement already satisfied: wcwidth in /usr/local/lib/python3.10/dist-packages (from prompt-toolkit!=3.0.0,!=3.0.1,<3.1.0,>=2.0.0->ipython>=4.0.0->ipywidgets) (0.2.13)\n",
            "Requirement already satisfied: platformdirs>=2.5 in /usr/local/lib/python3.10/dist-packages (from jupyter-core>=4.6.1->notebook>=4.4.1->widgetsnbextension~=3.6.0->ipywidgets) (4.3.6)\n",
            "Requirement already satisfied: notebook-shim>=0.2.3 in /usr/local/lib/python3.10/dist-packages (from nbclassic>=0.4.7->notebook>=4.4.1->widgetsnbextension~=3.6.0->ipywidgets) (0.2.4)\n",
            "Requirement already satisfied: beautifulsoup4 in /usr/local/lib/python3.10/dist-packages (from nbconvert>=5->notebook>=4.4.1->widgetsnbextension~=3.6.0->ipywidgets) (4.12.3)\n",
            "Requirement already satisfied: bleach!=5.0.0 in /usr/local/lib/python3.10/dist-packages (from nbconvert>=5->notebook>=4.4.1->widgetsnbextension~=3.6.0->ipywidgets) (6.2.0)\n",
            "Requirement already satisfied: defusedxml in /usr/local/lib/python3.10/dist-packages (from nbconvert>=5->notebook>=4.4.1->widgetsnbextension~=3.6.0->ipywidgets) (0.7.1)\n",
            "Requirement already satisfied: jupyterlab-pygments in /usr/local/lib/python3.10/dist-packages (from nbconvert>=5->notebook>=4.4.1->widgetsnbextension~=3.6.0->ipywidgets) (0.3.0)\n",
            "Requirement already satisfied: markupsafe>=2.0 in /usr/local/lib/python3.10/dist-packages (from nbconvert>=5->notebook>=4.4.1->widgetsnbextension~=3.6.0->ipywidgets) (3.0.2)\n",
            "Requirement already satisfied: mistune<4,>=2.0.3 in /usr/local/lib/python3.10/dist-packages (from nbconvert>=5->notebook>=4.4.1->widgetsnbextension~=3.6.0->ipywidgets) (3.0.2)\n",
            "Requirement already satisfied: nbclient>=0.5.0 in /usr/local/lib/python3.10/dist-packages (from nbconvert>=5->notebook>=4.4.1->widgetsnbextension~=3.6.0->ipywidgets) (0.10.0)\n",
            "Requirement already satisfied: packaging in /usr/local/lib/python3.10/dist-packages (from nbconvert>=5->notebook>=4.4.1->widgetsnbextension~=3.6.0->ipywidgets) (24.2)\n",
            "Requirement already satisfied: pandocfilters>=1.4.1 in /usr/local/lib/python3.10/dist-packages (from nbconvert>=5->notebook>=4.4.1->widgetsnbextension~=3.6.0->ipywidgets) (1.5.1)\n",
            "Requirement already satisfied: tinycss2 in /usr/local/lib/python3.10/dist-packages (from nbconvert>=5->notebook>=4.4.1->widgetsnbextension~=3.6.0->ipywidgets) (1.4.0)\n",
            "Requirement already satisfied: fastjsonschema>=2.15 in /usr/local/lib/python3.10/dist-packages (from nbformat->notebook>=4.4.1->widgetsnbextension~=3.6.0->ipywidgets) (2.20.0)\n",
            "Requirement already satisfied: jsonschema>=2.6 in /usr/local/lib/python3.10/dist-packages (from nbformat->notebook>=4.4.1->widgetsnbextension~=3.6.0->ipywidgets) (4.23.0)\n",
            "Requirement already satisfied: six>=1.5 in /usr/local/lib/python3.10/dist-packages (from python-dateutil>=2.1->jupyter-client->ipykernel>=4.5.1->ipywidgets) (1.16.0)\n",
            "Requirement already satisfied: argon2-cffi-bindings in /usr/local/lib/python3.10/dist-packages (from argon2-cffi->notebook>=4.4.1->widgetsnbextension~=3.6.0->ipywidgets) (21.2.0)\n",
            "Requirement already satisfied: webencodings in /usr/local/lib/python3.10/dist-packages (from bleach!=5.0.0->nbconvert>=5->notebook>=4.4.1->widgetsnbextension~=3.6.0->ipywidgets) (0.5.1)\n",
            "Requirement already satisfied: attrs>=22.2.0 in /usr/local/lib/python3.10/dist-packages (from jsonschema>=2.6->nbformat->notebook>=4.4.1->widgetsnbextension~=3.6.0->ipywidgets) (24.2.0)\n",
            "Requirement already satisfied: jsonschema-specifications>=2023.03.6 in /usr/local/lib/python3.10/dist-packages (from jsonschema>=2.6->nbformat->notebook>=4.4.1->widgetsnbextension~=3.6.0->ipywidgets) (2024.10.1)\n",
            "Requirement already satisfied: referencing>=0.28.4 in /usr/local/lib/python3.10/dist-packages (from jsonschema>=2.6->nbformat->notebook>=4.4.1->widgetsnbextension~=3.6.0->ipywidgets) (0.35.1)\n",
            "Requirement already satisfied: rpds-py>=0.7.1 in /usr/local/lib/python3.10/dist-packages (from jsonschema>=2.6->nbformat->notebook>=4.4.1->widgetsnbextension~=3.6.0->ipywidgets) (0.21.0)\n",
            "Requirement already satisfied: jupyter-server<3,>=1.8 in /usr/local/lib/python3.10/dist-packages (from notebook-shim>=0.2.3->nbclassic>=0.4.7->notebook>=4.4.1->widgetsnbextension~=3.6.0->ipywidgets) (1.24.0)\n",
            "Requirement already satisfied: cffi>=1.0.1 in /usr/local/lib/python3.10/dist-packages (from argon2-cffi-bindings->argon2-cffi->notebook>=4.4.1->widgetsnbextension~=3.6.0->ipywidgets) (1.17.1)\n",
            "Requirement already satisfied: soupsieve>1.2 in /usr/local/lib/python3.10/dist-packages (from beautifulsoup4->nbconvert>=5->notebook>=4.4.1->widgetsnbextension~=3.6.0->ipywidgets) (2.6)\n",
            "Requirement already satisfied: pycparser in /usr/local/lib/python3.10/dist-packages (from cffi>=1.0.1->argon2-cffi-bindings->argon2-cffi->notebook>=4.4.1->widgetsnbextension~=3.6.0->ipywidgets) (2.22)\n",
            "Requirement already satisfied: anyio<4,>=3.1.0 in /usr/local/lib/python3.10/dist-packages (from jupyter-server<3,>=1.8->notebook-shim>=0.2.3->nbclassic>=0.4.7->notebook>=4.4.1->widgetsnbextension~=3.6.0->ipywidgets) (3.7.1)\n",
            "Requirement already satisfied: websocket-client in /usr/local/lib/python3.10/dist-packages (from jupyter-server<3,>=1.8->notebook-shim>=0.2.3->nbclassic>=0.4.7->notebook>=4.4.1->widgetsnbextension~=3.6.0->ipywidgets) (1.8.0)\n",
            "Requirement already satisfied: idna>=2.8 in /usr/local/lib/python3.10/dist-packages (from anyio<4,>=3.1.0->jupyter-server<3,>=1.8->notebook-shim>=0.2.3->nbclassic>=0.4.7->notebook>=4.4.1->widgetsnbextension~=3.6.0->ipywidgets) (3.10)\n",
            "Requirement already satisfied: sniffio>=1.1 in /usr/local/lib/python3.10/dist-packages (from anyio<4,>=3.1.0->jupyter-server<3,>=1.8->notebook-shim>=0.2.3->nbclassic>=0.4.7->notebook>=4.4.1->widgetsnbextension~=3.6.0->ipywidgets) (1.3.1)\n",
            "Requirement already satisfied: exceptiongroup in /usr/local/lib/python3.10/dist-packages (from anyio<4,>=3.1.0->jupyter-server<3,>=1.8->notebook-shim>=0.2.3->nbclassic>=0.4.7->notebook>=4.4.1->widgetsnbextension~=3.6.0->ipywidgets) (1.2.2)\n",
            "Downloading jedi-0.19.2-py2.py3-none-any.whl (1.6 MB)\n",
            "\u001b[2K   \u001b[90m━━━━━━━━━━━━━━━━━━━━━━━━━━━━━━━━━━━━━━━━\u001b[0m \u001b[32m1.6/1.6 MB\u001b[0m \u001b[31m8.8 MB/s\u001b[0m eta \u001b[36m0:00:00\u001b[0m\n",
            "\u001b[?25hInstalling collected packages: jedi\n",
            "Successfully installed jedi-0.19.2\n"
          ]
        },
        {
          "output_type": "display_data",
          "data": {
            "text/plain": [
              "interactive(children=(Text(value='Colab User', description='name'), Output()), _dom_classes=('widget-interact'…"
            ],
            "application/vnd.jupyter.widget-view+json": {
              "version_major": 2,
              "version_minor": 0,
              "model_id": "b261e5f112d24821b5429c7d28cb3ebe"
            }
          },
          "metadata": {}
        },
        {
          "output_type": "execute_result",
          "data": {
            "text/plain": [
              "<function __main__.greet(name)>"
            ],
            "text/html": [
              "<div style=\"max-width:800px; border: 1px solid var(--colab-border-color);\"><style>\n",
              "      pre.function-repr-contents {\n",
              "        overflow-x: auto;\n",
              "        padding: 8px 12px;\n",
              "        max-height: 500px;\n",
              "      }\n",
              "\n",
              "      pre.function-repr-contents.function-repr-contents-collapsed {\n",
              "        cursor: pointer;\n",
              "        max-height: 100px;\n",
              "      }\n",
              "    </style>\n",
              "    <pre style=\"white-space: initial; background:\n",
              "         var(--colab-secondary-surface-color); padding: 8px 12px;\n",
              "         border-bottom: 1px solid var(--colab-border-color);\"><b>greet</b><br/>def greet(name)</pre><pre class=\"function-repr-contents function-repr-contents-collapsed\" style=\"\"><a class=\"filepath\" style=\"display:none\" href=\"#\">/content/&lt;ipython-input-2-e4f44b55cab4&gt;</a>&lt;no docstring&gt;</pre></div>"
            ]
          },
          "metadata": {},
          "execution_count": 2
        }
      ]
    },
    {
      "cell_type": "code",
      "source": [
        "def greet(name):\n",
        "    return f\"Hello, {name}!\"\n",
        "\n",
        "interact(greet, name=\"Colab User\")\n"
      ],
      "metadata": {
        "colab": {
          "base_uri": "https://localhost:8080/",
          "height": 153,
          "referenced_widgets": [
            "325f5a2331994165b892aabbd4c8f173",
            "6a705fe76aff4e64b3586bf8ea593b8b",
            "0b20701d4ac4406fa81880ce7654c29e",
            "4dde5f3692d04002b4175c9934c41555",
            "26c2b779bce148c187492edacb2c191d",
            "8967d6e96eca451895080a573c8bee14",
            "65bbfbe18975413c9f5372a59e028ea7"
          ]
        },
        "id": "bfHjMlJwq2HJ",
        "outputId": "1087bbec-692e-4efa-bea2-ea3b8e83ad09"
      },
      "execution_count": null,
      "outputs": [
        {
          "output_type": "display_data",
          "data": {
            "text/plain": [
              "interactive(children=(Text(value='Colab User', description='name'), Output()), _dom_classes=('widget-interact'…"
            ],
            "application/vnd.jupyter.widget-view+json": {
              "version_major": 2,
              "version_minor": 0,
              "model_id": "325f5a2331994165b892aabbd4c8f173"
            }
          },
          "metadata": {}
        },
        {
          "output_type": "execute_result",
          "data": {
            "text/plain": [
              "<function __main__.greet(name)>"
            ],
            "text/html": [
              "<div style=\"max-width:800px; border: 1px solid var(--colab-border-color);\"><style>\n",
              "      pre.function-repr-contents {\n",
              "        overflow-x: auto;\n",
              "        padding: 8px 12px;\n",
              "        max-height: 500px;\n",
              "      }\n",
              "\n",
              "      pre.function-repr-contents.function-repr-contents-collapsed {\n",
              "        cursor: pointer;\n",
              "        max-height: 100px;\n",
              "      }\n",
              "    </style>\n",
              "    <pre style=\"white-space: initial; background:\n",
              "         var(--colab-secondary-surface-color); padding: 8px 12px;\n",
              "         border-bottom: 1px solid var(--colab-border-color);\"><b>greet</b><br/>def greet(name)</pre><pre class=\"function-repr-contents function-repr-contents-collapsed\" style=\"\"><a class=\"filepath\" style=\"display:none\" href=\"#\">/content/&lt;ipython-input-3-1a2b79e749cd&gt;</a>&lt;no docstring&gt;</pre></div>"
            ]
          },
          "metadata": {},
          "execution_count": 3
        }
      ]
    },
    {
      "cell_type": "code",
      "source": [
        "import matplotlib.pyplot as plt\n",
        "import numpy as np\n",
        "from ipywidgets import interact\n",
        "\n",
        "def plot_wave(frequency=1.0, amplitude=1.0):\n",
        "    x = np.linspace(0, 2 * np.pi, 1000)\n",
        "    y = amplitude * np.sin(frequency * x)\n",
        "    plt.plot(x, y)\n",
        "    plt.title(\"Interactive Sine Wave\")\n",
        "    plt.show()\n",
        "\n",
        "interact(plot_wave, frequency=(0.1, 10.0, 0.1), amplitude=(0.1, 5.0, 0.1))\n"
      ],
      "metadata": {
        "colab": {
          "base_uri": "https://localhost:8080/",
          "height": 602,
          "referenced_widgets": [
            "9add43b4ae2644808991564e8114abd9",
            "3d92b62a2ee8425ab74311c9c14f00d4",
            "185d01d70b09469d871b8ce12d40f1b8",
            "1f10ca5c707c4bcb9a0433ed205733bd",
            "94cacf3df0d84a6bbd9a72eb7fa06cca",
            "e34c287bca2b42518d422b4610db919c",
            "cf6cba8129444153b76022905d95f43e",
            "aabae0c84a4e4998983d8fe73d546682",
            "5c829bff47854bb9ae316f3108e58724",
            "1cbafd0e483d4db8a15f8377fd288307"
          ]
        },
        "id": "iTQo85gaq2gE",
        "outputId": "6ced17e1-98de-4cac-9c1e-350f6d519fe0"
      },
      "execution_count": null,
      "outputs": [
        {
          "output_type": "display_data",
          "data": {
            "text/plain": [
              "interactive(children=(FloatSlider(value=1.0, description='frequency', max=10.0, min=0.1), FloatSlider(value=1.…"
            ],
            "application/vnd.jupyter.widget-view+json": {
              "version_major": 2,
              "version_minor": 0,
              "model_id": "9add43b4ae2644808991564e8114abd9"
            }
          },
          "metadata": {}
        },
        {
          "output_type": "execute_result",
          "data": {
            "text/plain": [
              "<function __main__.plot_wave(frequency=1.0, amplitude=1.0)>"
            ],
            "text/html": [
              "<div style=\"max-width:800px; border: 1px solid var(--colab-border-color);\"><style>\n",
              "      pre.function-repr-contents {\n",
              "        overflow-x: auto;\n",
              "        padding: 8px 12px;\n",
              "        max-height: 500px;\n",
              "      }\n",
              "\n",
              "      pre.function-repr-contents.function-repr-contents-collapsed {\n",
              "        cursor: pointer;\n",
              "        max-height: 100px;\n",
              "      }\n",
              "    </style>\n",
              "    <pre style=\"white-space: initial; background:\n",
              "         var(--colab-secondary-surface-color); padding: 8px 12px;\n",
              "         border-bottom: 1px solid var(--colab-border-color);\"><b>plot_wave</b><br/>def plot_wave(frequency=1.0, amplitude=1.0)</pre><pre class=\"function-repr-contents function-repr-contents-collapsed\" style=\"\"><a class=\"filepath\" style=\"display:none\" href=\"#\">/content/&lt;ipython-input-4-5013e24d2f6f&gt;</a>&lt;no docstring&gt;</pre></div>"
            ]
          },
          "metadata": {},
          "execution_count": 4
        }
      ]
    },
    {
      "cell_type": "code",
      "source": [
        "import random\n",
        "\n",
        "# NumberGuessingGame Class\n",
        "class NumberGuessingGame:\n",
        "    def __init__(self, max_attempts=5, range_start=1, range_end=100):\n",
        "        self.max_attempts = max_attempts\n",
        "        self.range_start = range_start\n",
        "        self.range_end = range_end\n",
        "        self.target_number = random.randint(range_start, range_end)\n",
        "        self.attempts = 0\n",
        "        self.is_won = False\n",
        "\n",
        "    def play(self):\n",
        "        print(f\"Welcome to the Number Guessing Game!\")\n",
        "        print(f\"I'm thinking of a number between {self.range_start} and {self.range_end}.\")\n",
        "        print(f\"You have {self.max_attempts} attempts to guess it!\")\n",
        "\n",
        "        while self.attempts < self.max_attempts:\n",
        "            try:\n",
        "                guess = int(input(f\"Attempt {self.attempts + 1}: Enter your guess: \"))\n",
        "                self.attempts += 1\n",
        "\n",
        "                if guess < self.target_number:\n",
        "                    print(\"Too low!\")\n",
        "                elif guess > self.target_number:\n",
        "                    print(\"Too high!\")\n",
        "                else:\n",
        "                    print(f\"Congratulations! You've guessed the number {self.target_number} correctly in {self.attempts} attempts!\")\n",
        "                    self.is_won = True\n",
        "                    break\n",
        "            except ValueError:\n",
        "                print(\"Invalid input. Please enter a number.\")\n",
        "\n",
        "        if not self.is_won:\n",
        "            print(f\"Game Over! The correct number was {self.target_number}.\")\n"
      ],
      "metadata": {
        "id": "BjyoKaPOsI69"
      },
      "execution_count": null,
      "outputs": []
    },
    {
      "cell_type": "code",
      "source": [
        "2game = NumberGuessingGame()\n",
        "game.play()\n"
      ],
      "metadata": {
        "colab": {
          "base_uri": "https://localhost:8080/",
          "height": 426
        },
        "id": "yN4zHCBylWmj",
        "outputId": "391b71ef-0518-4c55-ca96-e4a424440783"
      },
      "execution_count": null,
      "outputs": [
        {
          "output_type": "stream",
          "name": "stdout",
          "text": [
            "Welcome to the Number Guessing Game!\n",
            "I'm thinking of a number between 1 and 100.\n",
            "You have 5 attempts to guess it!\n",
            "Attempt 1: Enter your guess: 5\n",
            "Too low!\n",
            "Attempt 2: Enter your guess: 2\n",
            "Too low!\n"
          ]
        },
        {
          "output_type": "error",
          "ename": "KeyboardInterrupt",
          "evalue": "Interrupted by user",
          "traceback": [
            "\u001b[0;31m---------------------------------------------------------------------------\u001b[0m",
            "\u001b[0;31mKeyboardInterrupt\u001b[0m                         Traceback (most recent call last)",
            "\u001b[0;32m<ipython-input-17-612e2f25c32c>\u001b[0m in \u001b[0;36m<cell line: 2>\u001b[0;34m()\u001b[0m\n\u001b[1;32m      1\u001b[0m \u001b[0mgame\u001b[0m \u001b[0;34m=\u001b[0m \u001b[0mNumberGuessingGame\u001b[0m\u001b[0;34m(\u001b[0m\u001b[0;34m)\u001b[0m\u001b[0;34m\u001b[0m\u001b[0;34m\u001b[0m\u001b[0m\n\u001b[0;32m----> 2\u001b[0;31m \u001b[0mgame\u001b[0m\u001b[0;34m.\u001b[0m\u001b[0mplay\u001b[0m\u001b[0;34m(\u001b[0m\u001b[0;34m)\u001b[0m\u001b[0;34m\u001b[0m\u001b[0;34m\u001b[0m\u001b[0m\n\u001b[0m",
            "\u001b[0;32m<ipython-input-16-67b56acff330>\u001b[0m in \u001b[0;36mplay\u001b[0;34m(self)\u001b[0m\n\u001b[1;32m     18\u001b[0m         \u001b[0;32mwhile\u001b[0m \u001b[0mself\u001b[0m\u001b[0;34m.\u001b[0m\u001b[0mattempts\u001b[0m \u001b[0;34m<\u001b[0m \u001b[0mself\u001b[0m\u001b[0;34m.\u001b[0m\u001b[0mmax_attempts\u001b[0m\u001b[0;34m:\u001b[0m\u001b[0;34m\u001b[0m\u001b[0;34m\u001b[0m\u001b[0m\n\u001b[1;32m     19\u001b[0m             \u001b[0;32mtry\u001b[0m\u001b[0;34m:\u001b[0m\u001b[0;34m\u001b[0m\u001b[0;34m\u001b[0m\u001b[0m\n\u001b[0;32m---> 20\u001b[0;31m                 \u001b[0mguess\u001b[0m \u001b[0;34m=\u001b[0m \u001b[0mint\u001b[0m\u001b[0;34m(\u001b[0m\u001b[0minput\u001b[0m\u001b[0;34m(\u001b[0m\u001b[0;34mf\"Attempt {self.attempts + 1}: Enter your guess: \"\u001b[0m\u001b[0;34m)\u001b[0m\u001b[0;34m)\u001b[0m\u001b[0;34m\u001b[0m\u001b[0;34m\u001b[0m\u001b[0m\n\u001b[0m\u001b[1;32m     21\u001b[0m                 \u001b[0mself\u001b[0m\u001b[0;34m.\u001b[0m\u001b[0mattempts\u001b[0m \u001b[0;34m+=\u001b[0m \u001b[0;36m1\u001b[0m\u001b[0;34m\u001b[0m\u001b[0;34m\u001b[0m\u001b[0m\n\u001b[1;32m     22\u001b[0m \u001b[0;34m\u001b[0m\u001b[0m\n",
            "\u001b[0;32m/usr/local/lib/python3.10/dist-packages/ipykernel/kernelbase.py\u001b[0m in \u001b[0;36mraw_input\u001b[0;34m(self, prompt)\u001b[0m\n\u001b[1;32m    849\u001b[0m                 \u001b[0;34m\"raw_input was called, but this frontend does not support input requests.\"\u001b[0m\u001b[0;34m\u001b[0m\u001b[0;34m\u001b[0m\u001b[0m\n\u001b[1;32m    850\u001b[0m             )\n\u001b[0;32m--> 851\u001b[0;31m         return self._input_request(str(prompt),\n\u001b[0m\u001b[1;32m    852\u001b[0m             \u001b[0mself\u001b[0m\u001b[0;34m.\u001b[0m\u001b[0m_parent_ident\u001b[0m\u001b[0;34m,\u001b[0m\u001b[0;34m\u001b[0m\u001b[0;34m\u001b[0m\u001b[0m\n\u001b[1;32m    853\u001b[0m             \u001b[0mself\u001b[0m\u001b[0;34m.\u001b[0m\u001b[0m_parent_header\u001b[0m\u001b[0;34m,\u001b[0m\u001b[0;34m\u001b[0m\u001b[0;34m\u001b[0m\u001b[0m\n",
            "\u001b[0;32m/usr/local/lib/python3.10/dist-packages/ipykernel/kernelbase.py\u001b[0m in \u001b[0;36m_input_request\u001b[0;34m(self, prompt, ident, parent, password)\u001b[0m\n\u001b[1;32m    893\u001b[0m             \u001b[0;32mexcept\u001b[0m \u001b[0mKeyboardInterrupt\u001b[0m\u001b[0;34m:\u001b[0m\u001b[0;34m\u001b[0m\u001b[0;34m\u001b[0m\u001b[0m\n\u001b[1;32m    894\u001b[0m                 \u001b[0;31m# re-raise KeyboardInterrupt, to truncate traceback\u001b[0m\u001b[0;34m\u001b[0m\u001b[0;34m\u001b[0m\u001b[0m\n\u001b[0;32m--> 895\u001b[0;31m                 \u001b[0;32mraise\u001b[0m \u001b[0mKeyboardInterrupt\u001b[0m\u001b[0;34m(\u001b[0m\u001b[0;34m\"Interrupted by user\"\u001b[0m\u001b[0;34m)\u001b[0m \u001b[0;32mfrom\u001b[0m \u001b[0;32mNone\u001b[0m\u001b[0;34m\u001b[0m\u001b[0;34m\u001b[0m\u001b[0m\n\u001b[0m\u001b[1;32m    896\u001b[0m             \u001b[0;32mexcept\u001b[0m \u001b[0mException\u001b[0m \u001b[0;32mas\u001b[0m \u001b[0me\u001b[0m\u001b[0;34m:\u001b[0m\u001b[0;34m\u001b[0m\u001b[0;34m\u001b[0m\u001b[0m\n\u001b[1;32m    897\u001b[0m                 \u001b[0mself\u001b[0m\u001b[0;34m.\u001b[0m\u001b[0mlog\u001b[0m\u001b[0;34m.\u001b[0m\u001b[0mwarning\u001b[0m\u001b[0;34m(\u001b[0m\u001b[0;34m\"Invalid Message:\"\u001b[0m\u001b[0;34m,\u001b[0m \u001b[0mexc_info\u001b[0m\u001b[0;34m=\u001b[0m\u001b[0;32mTrue\u001b[0m\u001b[0;34m)\u001b[0m\u001b[0;34m\u001b[0m\u001b[0;34m\u001b[0m\u001b[0m\n",
            "\u001b[0;31mKeyboardInterrupt\u001b[0m: Interrupted by user"
          ]
        }
      ]
    }
  ]
}